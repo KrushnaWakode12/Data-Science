{
 "cells": [
  {
   "cell_type": "markdown",
   "metadata": {},
   "source": [
    "**---Import Necessary Libraries**"
   ]
  },
  {
   "cell_type": "code",
   "execution_count": 2,
   "metadata": {},
   "outputs": [],
   "source": [
    "import numpy as np\n",
    "import pandas as pd\n",
    "%matplotlib inline"
   ]
  },
  {
   "cell_type": "markdown",
   "metadata": {},
   "source": [
    "**---Import Data**"
   ]
  },
  {
   "cell_type": "code",
   "execution_count": 3,
   "metadata": {},
   "outputs": [],
   "source": [
    "from sklearn.datasets import fetch_20newsgroups"
   ]
  },
  {
   "cell_type": "code",
   "execution_count": 4,
   "metadata": {},
   "outputs": [],
   "source": [
    "all_df = fetch_20newsgroups(subset='all')"
   ]
  },
  {
   "cell_type": "markdown",
   "metadata": {},
   "source": [
    "**---Check Details of data such as length and Target names**"
   ]
  },
  {
   "cell_type": "code",
   "execution_count": 5,
   "metadata": {},
   "outputs": [
    {
     "name": "stdout",
     "output_type": "stream",
     "text": [
      "18846\n"
     ]
    }
   ],
   "source": [
    "print(len(all_df.filenames))"
   ]
  },
  {
   "cell_type": "code",
   "execution_count": 6,
   "metadata": {},
   "outputs": [
    {
     "name": "stdout",
     "output_type": "stream",
     "text": [
      "['alt.atheism', 'comp.graphics', 'comp.os.ms-windows.misc', 'comp.sys.ibm.pc.hardware', 'comp.sys.mac.hardware', 'comp.windows.x', 'misc.forsale', 'rec.autos', 'rec.motorcycles', 'rec.sport.baseball', 'rec.sport.hockey', 'sci.crypt', 'sci.electronics', 'sci.med', 'sci.space', 'soc.religion.christian', 'talk.politics.guns', 'talk.politics.mideast', 'talk.politics.misc', 'talk.religion.misc']\n"
     ]
    }
   ],
   "source": [
    "print(all_df.target_names)"
   ]
  },
  {
   "cell_type": "markdown",
   "metadata": {},
   "source": [
    "**---Subset only perticular domain related dataset**"
   ]
  },
  {
   "cell_type": "code",
   "execution_count": 7,
   "metadata": {},
   "outputs": [],
   "source": [
    "groups = ['comp.graphics', 'comp.os.ms-windows.misc',\n",
    "'comp.sys.ibm.pc.hardware', 'comp.sys.mac.hardware',\n",
    "'comp.windows.x', 'sci.space']\n",
    "\n",
    "train = fetch_20newsgroups(subset='train', categories=groups)"
   ]
  },
  {
   "cell_type": "code",
   "execution_count": 8,
   "metadata": {},
   "outputs": [
    {
     "name": "stdout",
     "output_type": "stream",
     "text": [
      "3529\n"
     ]
    }
   ],
   "source": [
    "print(len(train.filenames))"
   ]
  },
  {
   "cell_type": "code",
   "execution_count": 9,
   "metadata": {},
   "outputs": [],
   "source": [
    "test = fetch_20newsgroups(subset='test', categories=groups)"
   ]
  },
  {
   "cell_type": "code",
   "execution_count": 10,
   "metadata": {},
   "outputs": [
    {
     "name": "stdout",
     "output_type": "stream",
     "text": [
      "2349\n"
     ]
    }
   ],
   "source": [
    "print(len(test.filenames))"
   ]
  },
  {
   "cell_type": "markdown",
   "metadata": {},
   "source": [
    "**---Import TfidfVectorizer and transform training data**"
   ]
  },
  {
   "cell_type": "code",
   "execution_count": 11,
   "metadata": {},
   "outputs": [],
   "source": [
    "from sklearn.feature_extraction.text import TfidfVectorizer"
   ]
  },
  {
   "cell_type": "code",
   "execution_count": 12,
   "metadata": {},
   "outputs": [],
   "source": [
    "vect = TfidfVectorizer(min_df=10, max_df=0.5, decode_error='ignore', stop_words='english')"
   ]
  },
  {
   "cell_type": "code",
   "execution_count": 13,
   "metadata": {},
   "outputs": [],
   "source": [
    "vec_df = vect.fit_transform(train.data)"
   ]
  },
  {
   "cell_type": "code",
   "execution_count": 14,
   "metadata": {},
   "outputs": [],
   "source": [
    "num_samp, num_feature = vec_df.shape"
   ]
  },
  {
   "cell_type": "code",
   "execution_count": 15,
   "metadata": {},
   "outputs": [
    {
     "name": "stdout",
     "output_type": "stream",
     "text": [
      "#samples:  3529   #features:  5651\n"
     ]
    }
   ],
   "source": [
    "print('#samples: ', num_samp,'  #features: ',num_feature)"
   ]
  },
  {
   "cell_type": "markdown",
   "metadata": {},
   "source": [
    "**---Import K Means clustering model and train it with vectorized data**"
   ]
  },
  {
   "cell_type": "code",
   "execution_count": 16,
   "metadata": {},
   "outputs": [],
   "source": [
    "from sklearn.cluster import KMeans\n",
    "\n",
    "km = KMeans(n_clusters=20, init='random', n_init=1, verbose=1, random_state=3)"
   ]
  },
  {
   "cell_type": "code",
   "execution_count": 17,
   "metadata": {},
   "outputs": [
    {
     "name": "stdout",
     "output_type": "stream",
     "text": [
      "Initialization complete\n",
      "Iteration  0, inertia 6351.274\n",
      "Iteration  1, inertia 3345.773\n",
      "Iteration  2, inertia 3319.704\n",
      "Iteration  3, inertia 3307.397\n",
      "Iteration  4, inertia 3301.778\n",
      "Iteration  5, inertia 3298.276\n",
      "Iteration  6, inertia 3295.715\n",
      "Iteration  7, inertia 3293.692\n",
      "Iteration  8, inertia 3292.801\n",
      "Iteration  9, inertia 3292.248\n",
      "Iteration 10, inertia 3291.964\n",
      "Iteration 11, inertia 3291.723\n",
      "Iteration 12, inertia 3291.561\n",
      "Iteration 13, inertia 3291.530\n",
      "Iteration 14, inertia 3291.523\n",
      "Converged at iteration 14: center shift 0.000000e+00 within tolerance 1.731605e-08\n"
     ]
    },
    {
     "data": {
      "text/plain": [
       "KMeans(algorithm='auto', copy_x=True, init='random', max_iter=300,\n",
       "       n_clusters=20, n_init=1, n_jobs=None, precompute_distances='auto',\n",
       "       random_state=3, tol=0.0001, verbose=1)"
      ]
     },
     "execution_count": 17,
     "metadata": {},
     "output_type": "execute_result"
    }
   ],
   "source": [
    "km.fit(vec_df)"
   ]
  },
  {
   "cell_type": "markdown",
   "metadata": {},
   "source": [
    "**---Print clusters and words belong to that cluster**"
   ]
  },
  {
   "cell_type": "code",
   "execution_count": 35,
   "metadata": {},
   "outputs": [
    {
     "name": "stdout",
     "output_type": "stream",
     "text": [
      "cluster 0: \n",
      "usc\n",
      "columbia\n",
      "southern\n",
      "angeles\n",
      "los\n",
      "california\n",
      "caspian\n",
      "yeh\n",
      "ca\n",
      "university\n",
      "jan\n",
      "host\n",
      "cc\n",
      "nntp\n",
      "posting\n",
      "zyeh\n",
      "zhenghao\n",
      "ctr\n",
      "wireframe\n",
      "hp\n",
      "\n",
      "\n",
      "cluster 1: \n",
      "uk\n",
      "ac\n",
      "university\n",
      "nz\n",
      "posting\n",
      "mail\n",
      "host\n",
      "windows\n",
      "nntp\n",
      "does\n",
      "cam\n",
      "files\n",
      "file\n",
      "know\n",
      "liverpool\n",
      "thanks\n",
      "help\n",
      "ed\n",
      "tmc\n",
      "new\n",
      "\n",
      "\n",
      "cluster 2: \n",
      "nasa\n",
      "gov\n",
      "space\n",
      "jpl\n",
      "gsfc\n",
      "baalke\n",
      "jsc\n",
      "station\n",
      "kelvin\n",
      "___\n",
      "larc\n",
      "shuttle\n",
      "propulsion\n",
      "center\n",
      "__\n",
      "launch\n",
      "jet\n",
      "_____\n",
      "orbit\n",
      "research\n",
      "\n",
      "\n",
      "cluster 3: \n",
      "card\n",
      "video\n",
      "drivers\n",
      "bus\n",
      "diamond\n",
      "vlb\n",
      "eisa\n",
      "cards\n",
      "isa\n",
      "ati\n",
      "vesa\n",
      "24\n",
      "windows\n",
      "speedstar\n",
      "driver\n",
      "com\n",
      "controller\n",
      "local\n",
      "stealth\n",
      "cache\n",
      "\n",
      "\n",
      "cluster 4: \n",
      "mac\n",
      "netcom\n",
      "se\n",
      "com\n",
      "printer\n",
      "duo\n",
      "apple\n",
      "print\n",
      "use\n",
      "kth\n",
      "modem\n",
      "serial\n",
      "does\n",
      "problem\n",
      "university\n",
      "ii\n",
      "nada\n",
      "408\n",
      "powerbook\n",
      "new\n",
      "\n",
      "\n",
      "cluster 5: \n",
      "henry\n",
      "alaska\n",
      "toronto\n",
      "zoo\n",
      "aurora\n",
      "nsmca\n",
      "spencer\n",
      "zoology\n",
      "acad3\n",
      "space\n",
      "moon\n",
      "article\n",
      "just\n",
      "jacked\n",
      "writes\n",
      "utzoo\n",
      "work\n",
      "fairbanks\n",
      "high\n",
      "adams\n",
      "\n",
      "\n",
      "cluster 6: \n",
      "polygon\n",
      "points\n",
      "algorithm\n",
      "routine\n",
      "sphere\n",
      "point\n",
      "sunset\n",
      "sunrise\n",
      "bezier\n",
      "washington\n",
      "surface\n",
      "curves\n",
      "looking\n",
      "polygons\n",
      "times\n",
      "drexel\n",
      "fast\n",
      "circle\n",
      "reference\n",
      "detecting\n",
      "\n",
      "\n",
      "cluster 7: \n",
      "drive\n",
      "scsi\n",
      "ide\n",
      "drives\n",
      "hard\n",
      "disk\n",
      "controller\n",
      "floppy\n",
      "hd\n",
      "boot\n",
      "problem\n",
      "tape\n",
      "bus\n",
      "com\n",
      "mac\n",
      "pc\n",
      "ca\n",
      "problems\n",
      "dos\n",
      "adaptec\n",
      "\n",
      "\n",
      "cluster 8: \n",
      "simms\n",
      "apple\n",
      "cd\n",
      "centris\n",
      "simm\n",
      "berkeley\n",
      "vram\n",
      "c650\n",
      "rom\n",
      "quadra\n",
      "fpu\n",
      "lc\n",
      "com\n",
      "650\n",
      "don\n",
      "article\n",
      "ram\n",
      "toshiba\n",
      "hades\n",
      "writes\n",
      "\n",
      "\n",
      "cluster 9: \n",
      "higgins\n",
      "fnal\n",
      "jupiter\n",
      "gov\n",
      "comet\n",
      "fnalf\n",
      "sq\n",
      "gehrels\n",
      "temporary\n",
      "pgf\n",
      "orbit\n",
      "cacs\n",
      "jockey\n",
      "fraering\n",
      "usl\n",
      "beam\n",
      "nubus\n",
      "nasa\n",
      "phil\n",
      "srl02\n",
      "\n",
      "\n",
      "cluster 10: \n",
      "mouse\n",
      "windows\n",
      "com3\n",
      "port\n",
      "com\n",
      "com1\n",
      "driver\n",
      "adb\n",
      "serial\n",
      "irq\n",
      "sys\n",
      "apple\n",
      "com2\n",
      "use\n",
      "bus\n",
      "microsoft\n",
      "problem\n",
      "dartmouth\n",
      "irq5\n",
      "keyboard\n",
      "\n",
      "\n",
      "cluster 11: \n",
      "window\n",
      "mit\n",
      "server\n",
      "xterm\n",
      "com\n",
      "lcs\n",
      "xpert\n",
      "expo\n",
      "manager\n",
      "display\n",
      "sun\n",
      "color\n",
      "internet\n",
      "x11r5\n",
      "enterpoop\n",
      "application\n",
      "windows\n",
      "problem\n",
      "keyboard\n",
      "program\n",
      "\n",
      "\n",
      "cluster 12: \n",
      "motif\n",
      "widget\n",
      "com\n",
      "gl\n",
      "expose\n",
      "window\n",
      "widgets\n",
      "application\n",
      "event\n",
      "xt\n",
      "xlib\n",
      "code\n",
      "use\n",
      "athena\n",
      "null\n",
      "whaley\n",
      "buzz\n",
      "linux\n",
      "handler\n",
      "list\n",
      "\n",
      "\n",
      "cluster 13: \n",
      "access\n",
      "digex\n",
      "pat\n",
      "com\n",
      "dseg\n",
      "ti\n",
      "prb\n",
      "net\n",
      "mccall\n",
      "express\n",
      "online\n",
      "communications\n",
      "fred\n",
      "mksol\n",
      "space\n",
      "usa\n",
      "don\n",
      "writes\n",
      "article\n",
      "posting\n",
      "\n",
      "\n",
      "cluster 14: \n",
      "monitor\n",
      "ca\n",
      "thanks\n",
      "com\n",
      "university\n",
      "cs\n",
      "posting\n",
      "vga\n",
      "nntp\n",
      "computer\n",
      "host\n",
      "know\n",
      "advance\n",
      "does\n",
      "like\n",
      "mail\n",
      "color\n",
      "driver\n",
      "help\n",
      "just\n",
      "\n",
      "\n",
      "cluster 15: \n",
      "com\n",
      "au\n",
      "australia\n",
      "oz\n",
      "oracle\n",
      "hp\n",
      "world\n",
      "posting\n",
      "ford\n",
      "nntp\n",
      "robert\n",
      "portal\n",
      "host\n",
      "canberra\n",
      "cray\n",
      "research\n",
      "email\n",
      "article\n",
      "thanks\n",
      "uwa\n",
      "\n",
      "\n",
      "cluster 16: \n",
      "lib\n",
      "x11r5\n",
      "ericsson\n",
      "michael\n",
      "eos\n",
      "se\n",
      "ncsu\n",
      "compiling\n",
      "gcc\n",
      "doug\n",
      "libxmu\n",
      "ld\n",
      "undefined\n",
      "symbol\n",
      "xmu\n",
      "tim\n",
      "uni\n",
      "problem\n",
      "usr\n",
      "xterm\n",
      "\n",
      "\n",
      "cluster 17: \n",
      "space\n",
      "university\n",
      "com\n",
      "posting\n",
      "host\n",
      "nntp\n",
      "ax\n",
      "article\n",
      "cs\n",
      "program\n",
      "thanks\n",
      "like\n",
      "image\n",
      "file\n",
      "writes\n",
      "reply\n",
      "help\n",
      "time\n",
      "distribution\n",
      "know\n",
      "\n",
      "\n",
      "cluster 18: \n",
      "windows\n",
      "dos\n",
      "file\n",
      "files\n",
      "ms\n",
      "win\n",
      "nt\n",
      "com\n",
      "ini\n",
      "run\n",
      "use\n",
      "os\n",
      "university\n",
      "ca\n",
      "disk\n",
      "memory\n",
      "swap\n",
      "help\n",
      "program\n",
      "problem\n",
      "\n",
      "\n",
      "cluster 19: \n",
      "graphics\n",
      "3d\n",
      "library\n",
      "package\n",
      "comp\n",
      "philips\n",
      "studio\n",
      "boeing\n",
      "com\n",
      "mac\n",
      "looking\n",
      "mail\n",
      "carpenter\n",
      "line\n",
      "hidden\n",
      "address\n",
      "bcstec\n",
      "ca\n",
      "cad\n",
      "animation\n",
      "\n",
      "\n"
     ]
    }
   ],
   "source": [
    "order_cen = km.cluster_centers_.argsort()[:,::-1]\n",
    "terms = vect.get_feature_names()\n",
    "\n",
    "for i in range(20):\n",
    "    print('cluster %d: ' %i)\n",
    "    for x in order_cen[i,:20]:\n",
    "        print('%s' %terms[x])\n",
    "    print('\\n')"
   ]
  },
  {
   "cell_type": "markdown",
   "metadata": {},
   "source": [
    "**---Evaluate classification model performance**"
   ]
  },
  {
   "cell_type": "code",
   "execution_count": 20,
   "metadata": {},
   "outputs": [
    {
     "name": "stdout",
     "output_type": "stream",
     "text": [
      "Homogenity: 0.360\n",
      "Completeness: 0.30.240909\n",
      "V-measure: 0.30.288594\n"
     ]
    }
   ],
   "source": [
    "from sklearn import metrics\n",
    "\n",
    "print('Homogenity: %0.3f' %metrics.homogeneity_score(train.target, km.labels_))\n",
    "print('Completeness: 0.3%f' %metrics.completeness_score(train.target, km.labels_))\n",
    "print('V-measure: 0.3%f' %metrics.v_measure_score(train.target,km.labels_))"
   ]
  },
  {
   "cell_type": "markdown",
   "metadata": {},
   "source": [
    "**---Take Input from User and show relevant post related to it**"
   ]
  },
  {
   "cell_type": "code",
   "execution_count": 30,
   "metadata": {},
   "outputs": [
    {
     "name": "stdout",
     "output_type": "stream",
     "text": [
      "Enter Your Query:\n",
      "\"Disk drive problems. Hi, I have a problem with my hard disk. After 1 year it is working only sporadically now. I tried to format it, but now it doesn't boot any more. Any ideas? Thanks.\"\n"
     ]
    }
   ],
   "source": [
    "post = str(input('Enter Your Query:\\n'))\n",
    "newv = vect.transform(post.split())"
   ]
  },
  {
   "cell_type": "code",
   "execution_count": 57,
   "metadata": {},
   "outputs": [],
   "source": [
    "post_label = km.predict(newv)\n",
    "a=np.argmax((pd.value_counts(post_label)))"
   ]
  },
  {
   "cell_type": "code",
   "execution_count": 32,
   "metadata": {
    "scrolled": true
   },
   "outputs": [],
   "source": [
    "data = pd.DataFrame()\n",
    "data['data_index'] = pd.DataFrame(train.data).index.values\n",
    "data['cluster'] = km.labels_\n",
    "data['Str'] = pd.DataFrame(train.data)"
   ]
  },
  {
   "cell_type": "code",
   "execution_count": 58,
   "metadata": {},
   "outputs": [],
   "source": [
    "possible = data[data['cluster'] == a].head()"
   ]
  },
  {
   "cell_type": "code",
   "execution_count": 59,
   "metadata": {},
   "outputs": [
    {
     "name": "stdout",
     "output_type": "stream",
     "text": [
      "Related Query:\n",
      "\n",
      "From: maverick@wpi.WPI.EDU (T. Giaquinto)\n",
      "Subject: General Information Request\n",
      "Organization: Worcester Polytechnic Institute, Worcester, MA 01609-2280\n",
      "Lines: 11\n",
      "NNTP-Posting-Host: wpi.wpi.edu\n",
      "\n",
      "\n",
      "\tI am looking for any information about the space program.\n",
      "This includes NASA, the shuttles, history, anything!  I would like to\n",
      "know if anyone could suggest books, periodicals, even ftp sites for a\n",
      "novice who is interested in the space program.\n",
      "\n",
      "\n",
      "\n",
      "\t\t\t\t\tTodd Giaquinto\n",
      "\t\t\t\t\tmaverick@wpi.WPI.EDU\n",
      "\t\t\t\t\t\n",
      "\n"
     ]
    }
   ],
   "source": [
    "print('Related Query:\\n')\n",
    "\n",
    "print(possible['Str'][0])"
   ]
  },
  {
   "cell_type": "code",
   "execution_count": null,
   "metadata": {},
   "outputs": [],
   "source": []
  },
  {
   "cell_type": "code",
   "execution_count": null,
   "metadata": {},
   "outputs": [],
   "source": []
  }
 ],
 "metadata": {
  "kernelspec": {
   "display_name": "Python 3",
   "language": "python",
   "name": "python3"
  },
  "language_info": {
   "codemirror_mode": {
    "name": "ipython",
    "version": 3
   },
   "file_extension": ".py",
   "mimetype": "text/x-python",
   "name": "python",
   "nbconvert_exporter": "python",
   "pygments_lexer": "ipython3",
   "version": "3.7.4"
  }
 },
 "nbformat": 4,
 "nbformat_minor": 2
}
