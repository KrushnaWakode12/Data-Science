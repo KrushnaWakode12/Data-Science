{
 "cells": [
  {
   "cell_type": "code",
   "execution_count": 53,
   "metadata": {},
   "outputs": [],
   "source": [
    "from __future__ import print_function\n",
    "import numpy as np\n",
    "from keras.datasets import mnist\n",
    "from keras.models import Sequential\n",
    "from keras.layers.core import Dense, Activation, Dropout\n",
    "from keras.optimizers import adam\n",
    "from keras.utils import np_utils\n",
    "from keras.regularizers import l2\n",
    "np.random.seed(1671)"
   ]
  },
  {
   "cell_type": "code",
   "execution_count": 69,
   "metadata": {},
   "outputs": [],
   "source": [
    "#network and training\n",
    "NB_EPOCH = 250\n",
    "BATCH_SIZE = 128\n",
    "VERBOSE = 1\n",
    "NB_CLASSES = 10 # number of outputs = number of digits\n",
    "OPTIMIZER = adam() # adam optimizer\n",
    "N_HIDDEN = 128\n",
    "VALIDATION_SPLIT=0.2\n",
    "DROPOUT = 0.3"
   ]
  },
  {
   "cell_type": "code",
   "execution_count": 70,
   "metadata": {},
   "outputs": [],
   "source": [
    "(X_train, y_train), (X_test, y_test) =mnist.load_data()"
   ]
  },
  {
   "cell_type": "code",
   "execution_count": 71,
   "metadata": {},
   "outputs": [],
   "source": [
    "X_train =X_train.reshape(60000, 784)\n",
    "X_test = X_test.reshape(10000, 784)\n",
    "X_train = X_train.astype('float32')\n",
    "X_test = X_test.astype('float32')"
   ]
  },
  {
   "cell_type": "code",
   "execution_count": 72,
   "metadata": {},
   "outputs": [
    {
     "name": "stdout",
     "output_type": "stream",
     "text": [
      "60000 train samples\n",
      "10000 test samples\n"
     ]
    }
   ],
   "source": [
    "X_train /= 255\n",
    "X_test /= 255\n",
    "print(X_train.shape[0], 'train samples')\n",
    "print(X_test.shape[0], 'test samples')"
   ]
  },
  {
   "cell_type": "code",
   "execution_count": 73,
   "metadata": {},
   "outputs": [],
   "source": [
    "Y_train = np_utils.to_categorical(y_train, NB_CLASSES)\n",
    "Y_test = np_utils.to_categorical(y_test, NB_CLASSES)    "
   ]
  },
  {
   "cell_type": "code",
   "execution_count": 74,
   "metadata": {
    "scrolled": true
   },
   "outputs": [
    {
     "name": "stdout",
     "output_type": "stream",
     "text": [
      "_________________________________________________________________\n",
      "Layer (type)                 Output Shape              Param #   \n",
      "=================================================================\n",
      "dense_17 (Dense)             (None, 128)               100480    \n",
      "_________________________________________________________________\n",
      "activation_17 (Activation)   (None, 128)               0         \n",
      "_________________________________________________________________\n",
      "dropout_7 (Dropout)          (None, 128)               0         \n",
      "_________________________________________________________________\n",
      "dense_18 (Dense)             (None, 128)               16512     \n",
      "_________________________________________________________________\n",
      "activation_18 (Activation)   (None, 128)               0         \n",
      "_________________________________________________________________\n",
      "dropout_8 (Dropout)          (None, 128)               0         \n",
      "_________________________________________________________________\n",
      "dense_19 (Dense)             (None, 10)                1290      \n",
      "_________________________________________________________________\n",
      "activation_19 (Activation)   (None, 10)                0         \n",
      "=================================================================\n",
      "Total params: 118,282\n",
      "Trainable params: 118,282\n",
      "Non-trainable params: 0\n",
      "_________________________________________________________________\n"
     ]
    }
   ],
   "source": [
    "model = Sequential()\n",
    "model.add(Dense(N_HIDDEN, input_shape=(784,), kernel_regularizer=l2()))\n",
    "model.add(Activation('relu'))\n",
    "model.add(Dropout(DROPOUT))\n",
    "model.add(Dense(N_HIDDEN))\n",
    "model.add(Activation('relu'))\n",
    "model.add(Dropout(DROPOUT))\n",
    "model.add(Dense(NB_CLASSES))\n",
    "model.add(Activation('softmax'))\n",
    "model.summary()"
   ]
  },
  {
   "cell_type": "code",
   "execution_count": 75,
   "metadata": {},
   "outputs": [],
   "source": [
    "model.compile(loss='categorical_crossentropy', optimizer='adam', metrics=['accuracy'])"
   ]
  },
  {
   "cell_type": "code",
   "execution_count": 67,
   "metadata": {},
   "outputs": [
    {
     "name": "stdout",
     "output_type": "stream",
     "text": [
      "Train on 48000 samples, validate on 12000 samples\n",
      "Epoch 1/50\n",
      "48000/48000 [==============================] - 4s 84us/step - loss: 0.2303 - acc: 0.9596 - val_loss: 0.1838 - val_acc: 0.9737\n",
      "Epoch 2/50\n",
      "48000/48000 [==============================] - 5s 98us/step - loss: 0.2268 - acc: 0.9595 - val_loss: 0.1926 - val_acc: 0.9723\n",
      "Epoch 3/50\n",
      "48000/48000 [==============================] - 4s 82us/step - loss: 0.2301 - acc: 0.9591 - val_loss: 0.1904 - val_acc: 0.9718\n",
      "Epoch 4/50\n",
      "48000/48000 [==============================] - 4s 85us/step - loss: 0.2285 - acc: 0.9582 - val_loss: 0.1807 - val_acc: 0.9759\n",
      "Epoch 5/50\n",
      "48000/48000 [==============================] - 4s 83us/step - loss: 0.2213 - acc: 0.9608 - val_loss: 0.1857 - val_acc: 0.9753\n",
      "Epoch 6/50\n",
      "48000/48000 [==============================] - 4s 85us/step - loss: 0.2280 - acc: 0.9591 - val_loss: 0.1830 - val_acc: 0.9749\n",
      "Epoch 7/50\n",
      "48000/48000 [==============================] - 4s 85us/step - loss: 0.2205 - acc: 0.9625 - val_loss: 0.1764 - val_acc: 0.9752\n",
      "Epoch 8/50\n",
      "48000/48000 [==============================] - 4s 83us/step - loss: 0.2274 - acc: 0.9587 - val_loss: 0.1919 - val_acc: 0.9728\n",
      "Epoch 9/50\n",
      "48000/48000 [==============================] - 4s 84us/step - loss: 0.2309 - acc: 0.9596 - val_loss: 0.1894 - val_acc: 0.9723\n",
      "Epoch 10/50\n",
      "48000/48000 [==============================] - 5s 98us/step - loss: 0.2298 - acc: 0.9593 - val_loss: 0.1766 - val_acc: 0.9758\n",
      "Epoch 11/50\n",
      "48000/48000 [==============================] - 4s 83us/step - loss: 0.2210 - acc: 0.9608 - val_loss: 0.1801 - val_acc: 0.9742\n",
      "Epoch 12/50\n",
      "48000/48000 [==============================] - 4s 84us/step - loss: 0.2292 - acc: 0.9591 - val_loss: 0.1774 - val_acc: 0.9754\n",
      "Epoch 13/50\n",
      "48000/48000 [==============================] - 4s 84us/step - loss: 0.2347 - acc: 0.9572 - val_loss: 0.1993 - val_acc: 0.9697\n",
      "Epoch 14/50\n",
      "48000/48000 [==============================] - 4s 85us/step - loss: 0.2253 - acc: 0.9606 - val_loss: 0.1891 - val_acc: 0.9712\n",
      "Epoch 15/50\n",
      "48000/48000 [==============================] - 4s 84us/step - loss: 0.2272 - acc: 0.9593 - val_loss: 0.1941 - val_acc: 0.9723\n",
      "Epoch 16/50\n",
      "48000/48000 [==============================] - 4s 86us/step - loss: 0.2335 - acc: 0.9589 - val_loss: 0.1919 - val_acc: 0.9741\n",
      "Epoch 17/50\n",
      "48000/48000 [==============================] - 4s 86us/step - loss: 0.2252 - acc: 0.9604 - val_loss: 0.1813 - val_acc: 0.9743\n",
      "Epoch 18/50\n",
      "48000/48000 [==============================] - 4s 88us/step - loss: 0.2226 - acc: 0.9602 - val_loss: 0.1954 - val_acc: 0.9724\n",
      "Epoch 19/50\n",
      "48000/48000 [==============================] - 4s 87us/step - loss: 0.2307 - acc: 0.9594 - val_loss: 0.1820 - val_acc: 0.9753\n",
      "Epoch 20/50\n",
      "48000/48000 [==============================] - 4s 87us/step - loss: 0.2283 - acc: 0.9592 - val_loss: 0.1868 - val_acc: 0.9731\n",
      "Epoch 21/50\n",
      "48000/48000 [==============================] - 4s 86us/step - loss: 0.2295 - acc: 0.9593 - val_loss: 0.1822 - val_acc: 0.9764\n",
      "Epoch 22/50\n",
      "48000/48000 [==============================] - 4s 89us/step - loss: 0.2238 - acc: 0.9602 - val_loss: 0.1884 - val_acc: 0.9729\n",
      "Epoch 23/50\n",
      "48000/48000 [==============================] - 4s 87us/step - loss: 0.2236 - acc: 0.9611 - val_loss: 0.1799 - val_acc: 0.9741\n",
      "Epoch 24/50\n",
      "48000/48000 [==============================] - 4s 89us/step - loss: 0.2285 - acc: 0.9597 - val_loss: 0.1868 - val_acc: 0.9732\n",
      "Epoch 25/50\n",
      "48000/48000 [==============================] - 4s 88us/step - loss: 0.2219 - acc: 0.9614 - val_loss: 0.1798 - val_acc: 0.9762\n",
      "Epoch 26/50\n",
      "48000/48000 [==============================] - 4s 89us/step - loss: 0.2219 - acc: 0.9605 - val_loss: 0.1947 - val_acc: 0.9707\n",
      "Epoch 27/50\n",
      "48000/48000 [==============================] - 4s 88us/step - loss: 0.2250 - acc: 0.9618 - val_loss: 0.1890 - val_acc: 0.9730\n",
      "Epoch 28/50\n",
      "48000/48000 [==============================] - 4s 87us/step - loss: 0.2316 - acc: 0.9576 - val_loss: 0.1865 - val_acc: 0.9744\n",
      "Epoch 29/50\n",
      "48000/48000 [==============================] - 4s 87us/step - loss: 0.2253 - acc: 0.9609 - val_loss: 0.1877 - val_acc: 0.9726\n",
      "Epoch 30/50\n",
      "48000/48000 [==============================] - 4s 88us/step - loss: 0.2246 - acc: 0.9606 - val_loss: 0.1972 - val_acc: 0.9701\n",
      "Epoch 31/50\n",
      "48000/48000 [==============================] - 4s 89us/step - loss: 0.2274 - acc: 0.9609 - val_loss: 0.1820 - val_acc: 0.9756\n",
      "Epoch 32/50\n",
      "48000/48000 [==============================] - 4s 89us/step - loss: 0.2238 - acc: 0.9603 - val_loss: 0.1854 - val_acc: 0.9728\n",
      "Epoch 33/50\n",
      "48000/48000 [==============================] - 4s 88us/step - loss: 0.2275 - acc: 0.9595 - val_loss: 0.1904 - val_acc: 0.9739\n",
      "Epoch 34/50\n",
      "48000/48000 [==============================] - 4s 90us/step - loss: 0.2253 - acc: 0.9603 - val_loss: 0.1885 - val_acc: 0.9729\n",
      "Epoch 35/50\n",
      "48000/48000 [==============================] - 4s 91us/step - loss: 0.2303 - acc: 0.9592 - val_loss: 0.1856 - val_acc: 0.9722\n",
      "Epoch 36/50\n",
      "48000/48000 [==============================] - 4s 89us/step - loss: 0.2337 - acc: 0.9588 - val_loss: 0.1830 - val_acc: 0.9742\n",
      "Epoch 37/50\n",
      "48000/48000 [==============================] - 4s 89us/step - loss: 0.2275 - acc: 0.9599 - val_loss: 0.1826 - val_acc: 0.9737\n",
      "Epoch 38/50\n",
      "48000/48000 [==============================] - 4s 89us/step - loss: 0.2271 - acc: 0.9595 - val_loss: 0.1856 - val_acc: 0.9733\n",
      "Epoch 39/50\n",
      "48000/48000 [==============================] - 4s 90us/step - loss: 0.2301 - acc: 0.9588 - val_loss: 0.1889 - val_acc: 0.9734\n",
      "Epoch 40/50\n",
      "48000/48000 [==============================] - 5s 103us/step - loss: 0.2246 - acc: 0.9604 - val_loss: 0.1893 - val_acc: 0.9719\n",
      "Epoch 41/50\n",
      "48000/48000 [==============================] - 4s 89us/step - loss: 0.2294 - acc: 0.9590 - val_loss: 0.1904 - val_acc: 0.9743\n",
      "Epoch 42/50\n",
      "48000/48000 [==============================] - 4s 88us/step - loss: 0.2240 - acc: 0.9608 - val_loss: 0.1882 - val_acc: 0.9747\n",
      "Epoch 43/50\n",
      "48000/48000 [==============================] - 4s 89us/step - loss: 0.2263 - acc: 0.9606 - val_loss: 0.1841 - val_acc: 0.9746\n",
      "Epoch 44/50\n",
      "48000/48000 [==============================] - 4s 90us/step - loss: 0.2306 - acc: 0.9593 - val_loss: 0.1871 - val_acc: 0.9730\n",
      "Epoch 45/50\n",
      "48000/48000 [==============================] - 4s 91us/step - loss: 0.2281 - acc: 0.9591 - val_loss: 0.1876 - val_acc: 0.9755\n",
      "Epoch 46/50\n",
      "48000/48000 [==============================] - 4s 90us/step - loss: 0.2236 - acc: 0.9607 - val_loss: 0.1871 - val_acc: 0.9741\n",
      "Epoch 47/50\n",
      "48000/48000 [==============================] - 4s 92us/step - loss: 0.2279 - acc: 0.9596 - val_loss: 0.1863 - val_acc: 0.9745\n",
      "Epoch 48/50\n",
      "48000/48000 [==============================] - 4s 92us/step - loss: 0.2242 - acc: 0.9607 - val_loss: 0.1835 - val_acc: 0.9749\n",
      "Epoch 49/50\n",
      "48000/48000 [==============================] - 4s 91us/step - loss: 0.2259 - acc: 0.9613 - val_loss: 0.1917 - val_acc: 0.9707\n",
      "Epoch 50/50\n",
      "48000/48000 [==============================] - 4s 91us/step - loss: 0.2351 - acc: 0.9590 - val_loss: 0.1835 - val_acc: 0.9748\n"
     ]
    }
   ],
   "source": [
    "history = model.fit(X_train, Y_train, batch_size=BATCH_SIZE, epochs=NB_EPOCH, verbose=VERBOSE, validation_split=VALIDATION_SPLIT)"
   ]
  },
  {
   "cell_type": "code",
   "execution_count": 68,
   "metadata": {},
   "outputs": [
    {
     "name": "stdout",
     "output_type": "stream",
     "text": [
      "10000/10000 [==============================] - 1s 83us/step\n",
      "Test score: 0.17949466874599457\n",
      "Test accuracy: 0.977\n"
     ]
    }
   ],
   "source": [
    "score = model.evaluate(X_test, Y_test, verbose=VERBOSE)\n",
    "print(\"Test score:\", score[0])\n",
    "print('Test accuracy:', score[1])"
   ]
  },
  {
   "cell_type": "code",
   "execution_count": null,
   "metadata": {},
   "outputs": [],
   "source": []
  }
 ],
 "metadata": {
  "kernelspec": {
   "display_name": "Python 3",
   "language": "python",
   "name": "python3"
  },
  "language_info": {
   "codemirror_mode": {
    "name": "ipython",
    "version": 3
   },
   "file_extension": ".py",
   "mimetype": "text/x-python",
   "name": "python",
   "nbconvert_exporter": "python",
   "pygments_lexer": "ipython3",
   "version": "3.7.4"
  }
 },
 "nbformat": 4,
 "nbformat_minor": 2
}
