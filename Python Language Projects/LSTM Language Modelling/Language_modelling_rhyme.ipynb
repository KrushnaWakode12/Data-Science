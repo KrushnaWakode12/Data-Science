{
 "cells": [
  {
   "cell_type": "code",
   "execution_count": 24,
   "metadata": {},
   "outputs": [],
   "source": [
    "import numpy as np\n",
    "from pickle import dump\n",
    "from keras.utils import to_categorical\n",
    "from keras.utils.vis_utils import plot_model\n",
    "from keras.models import Sequential\n",
    "from keras.layers import Dense\n",
    "from keras.layers import LSTM\n",
    "from keras.preprocessing.sequence import pad_sequences"
   ]
  },
  {
   "cell_type": "code",
   "execution_count": 1,
   "metadata": {},
   "outputs": [],
   "source": [
    "# load doc into memory\n",
    "def load_doc(filename):\n",
    "    file = open(filename, 'r')\n",
    "    text = file.read()\n",
    "    file.close()\n",
    "    return text"
   ]
  },
  {
   "cell_type": "code",
   "execution_count": 2,
   "metadata": {},
   "outputs": [
    {
     "name": "stdout",
     "output_type": "stream",
     "text": [
      "Sing a song of sixpence,\n",
      "A pocket full of rye.\n",
      "Four and twenty blackbirds,\n",
      "Baked in a pie.\n",
      "When the pie was opened\n",
      "The birds began to sing;\n",
      "Wasn't that a dainty dish,\n",
      "To set before the king.\n",
      "The king was in his counting house,\n",
      "Counting out his money;\n",
      "The queen was in the parlour,\n",
      "Eating bread and honey.\n",
      "The maid was in the garden,\n",
      "Hanging out the clothes,\n",
      "When down came a blackbird\n",
      "And pecked off her nose.\n"
     ]
    }
   ],
   "source": [
    "# load text\n",
    "raw_text = load_doc('rhyme.txt')\n",
    "print(raw_text)"
   ]
  },
  {
   "cell_type": "code",
   "execution_count": 3,
   "metadata": {},
   "outputs": [],
   "source": [
    "# save tokens to file, one dialog per line\n",
    "def save_doc(lines, filename):\n",
    "    data = '\\n'.join(lines)\n",
    "    file = open(filename, 'w')\n",
    "    file.write(data)\n",
    "    file.close()"
   ]
  },
  {
   "cell_type": "code",
   "execution_count": 4,
   "metadata": {},
   "outputs": [],
   "source": [
    "# clean\n",
    "tokens = raw_text.split()\n",
    "raw_text = ' '.join(tokens)"
   ]
  },
  {
   "cell_type": "code",
   "execution_count": 5,
   "metadata": {},
   "outputs": [],
   "source": [
    "# organize into sequences of characters\n",
    "length = 10\n",
    "sequences = list()"
   ]
  },
  {
   "cell_type": "code",
   "execution_count": 7,
   "metadata": {},
   "outputs": [
    {
     "name": "stdout",
     "output_type": "stream",
     "text": [
      "Total Sequences: 399\n"
     ]
    }
   ],
   "source": [
    "for i in range(length, len(raw_text)):\n",
    "    # select sequence of tokens\n",
    "    seq = raw_text[i-length:i+1]\n",
    "    sequences.append(seq)\n",
    "print('Total Sequences: %d' % len(sequences))"
   ]
  },
  {
   "cell_type": "code",
   "execution_count": 8,
   "metadata": {},
   "outputs": [],
   "source": [
    "# save sequences to file\n",
    "out_filename = 'char_sequences.txt'\n",
    "save_doc(sequences, out_filename)"
   ]
  },
  {
   "cell_type": "code",
   "execution_count": 9,
   "metadata": {},
   "outputs": [],
   "source": [
    "# load\n",
    "in_filename = 'char_sequences.txt'\n",
    "raw_text = load_doc(in_filename)\n",
    "lines = raw_text.split('\\n')"
   ]
  },
  {
   "cell_type": "code",
   "execution_count": 10,
   "metadata": {},
   "outputs": [],
   "source": [
    "chars = sorted(list(set(raw_text)))\n",
    "mapping = dict((c, i) for i, c in enumerate(chars))"
   ]
  },
  {
   "cell_type": "code",
   "execution_count": 12,
   "metadata": {},
   "outputs": [],
   "source": [
    "sequences = list()\n",
    "for line in lines:\n",
    "    # integer encode line\n",
    "    encoded_seq = [mapping[char] for char in line]\n",
    "    sequences.append(encoded_seq)"
   ]
  },
  {
   "cell_type": "code",
   "execution_count": 13,
   "metadata": {},
   "outputs": [
    {
     "name": "stdout",
     "output_type": "stream",
     "text": [
      "Vocabulary Size: 38\n"
     ]
    }
   ],
   "source": [
    "# vocabulary size\n",
    "vocab_size = len(mapping)\n",
    "print('Vocabulary Size: %d' % vocab_size)"
   ]
  },
  {
   "cell_type": "code",
   "execution_count": 16,
   "metadata": {},
   "outputs": [],
   "source": [
    "sequences = np.array(sequences)\n",
    "X, y = sequences[:,:-1], sequences[:,-1]"
   ]
  },
  {
   "cell_type": "code",
   "execution_count": 18,
   "metadata": {},
   "outputs": [],
   "source": [
    "# separate into input and output\n",
    "sequences = [to_categorical(x, num_classes=vocab_size) for x in X]\n",
    "X = np.array(sequences)\n",
    "y = to_categorical(y, num_classes=vocab_size)"
   ]
  },
  {
   "cell_type": "code",
   "execution_count": 19,
   "metadata": {},
   "outputs": [],
   "source": [
    "# define the model\n",
    "def define_model(X):\n",
    "    model = Sequential()\n",
    "    model.add(LSTM(75, input_shape=(X.shape[1], X.shape[2])))\n",
    "    model.add(Dense(vocab_size, activation='softmax'))\n",
    "\n",
    "    # compile model\n",
    "    model.compile(loss='categorical_crossentropy', optimizer='adam', metrics=['accuracy'])\n",
    "\n",
    "    # summarize defined model\n",
    "    model.summary()\n",
    "    #plot_model(model, to_file='model.png', show_shapes=True)\n",
    "    return model"
   ]
  },
  {
   "cell_type": "code",
   "execution_count": 20,
   "metadata": {},
   "outputs": [
    {
     "name": "stdout",
     "output_type": "stream",
     "text": [
      "WARNING:tensorflow:From C:\\Users\\HP\\Anaconda3\\lib\\site-packages\\keras\\backend\\tensorflow_backend.py:74: The name tf.get_default_graph is deprecated. Please use tf.compat.v1.get_default_graph instead.\n",
      "\n",
      "WARNING:tensorflow:From C:\\Users\\HP\\Anaconda3\\lib\\site-packages\\keras\\backend\\tensorflow_backend.py:517: The name tf.placeholder is deprecated. Please use tf.compat.v1.placeholder instead.\n",
      "\n",
      "WARNING:tensorflow:From C:\\Users\\HP\\Anaconda3\\lib\\site-packages\\keras\\backend\\tensorflow_backend.py:4138: The name tf.random_uniform is deprecated. Please use tf.random.uniform instead.\n",
      "\n",
      "WARNING:tensorflow:From C:\\Users\\HP\\Anaconda3\\lib\\site-packages\\keras\\optimizers.py:790: The name tf.train.Optimizer is deprecated. Please use tf.compat.v1.train.Optimizer instead.\n",
      "\n",
      "WARNING:tensorflow:From C:\\Users\\HP\\Anaconda3\\lib\\site-packages\\keras\\backend\\tensorflow_backend.py:3295: The name tf.log is deprecated. Please use tf.math.log instead.\n",
      "\n",
      "_________________________________________________________________\n",
      "Layer (type)                 Output Shape              Param #   \n",
      "=================================================================\n",
      "lstm_1 (LSTM)                (None, 75)                34200     \n",
      "_________________________________________________________________\n",
      "dense_1 (Dense)              (None, 38)                2888      \n",
      "=================================================================\n",
      "Total params: 37,088\n",
      "Trainable params: 37,088\n",
      "Non-trainable params: 0\n",
      "_________________________________________________________________\n"
     ]
    }
   ],
   "source": [
    "# define model\n",
    "model = define_model(X)"
   ]
  },
  {
   "cell_type": "code",
   "execution_count": 21,
   "metadata": {},
   "outputs": [
    {
     "name": "stdout",
     "output_type": "stream",
     "text": [
      "WARNING:tensorflow:From C:\\Users\\HP\\Anaconda3\\lib\\site-packages\\tensorflow_core\\python\\ops\\math_grad.py:1424: where (from tensorflow.python.ops.array_ops) is deprecated and will be removed in a future version.\n",
      "Instructions for updating:\n",
      "Use tf.where in 2.0, which has the same broadcast rule as np.where\n",
      "WARNING:tensorflow:From C:\\Users\\HP\\Anaconda3\\lib\\site-packages\\keras\\backend\\tensorflow_backend.py:986: The name tf.assign_add is deprecated. Please use tf.compat.v1.assign_add instead.\n",
      "\n",
      "WARNING:tensorflow:From C:\\Users\\HP\\Anaconda3\\lib\\site-packages\\keras\\backend\\tensorflow_backend.py:973: The name tf.assign is deprecated. Please use tf.compat.v1.assign instead.\n",
      "\n",
      "WARNING:tensorflow:From C:\\Users\\HP\\Anaconda3\\lib\\site-packages\\keras\\backend\\tensorflow_backend.py:2741: The name tf.Session is deprecated. Please use tf.compat.v1.Session instead.\n",
      "\n",
      "Epoch 1/100\n",
      "WARNING:tensorflow:From C:\\Users\\HP\\Anaconda3\\lib\\site-packages\\keras\\backend\\tensorflow_backend.py:174: The name tf.get_default_session is deprecated. Please use tf.compat.v1.get_default_session instead.\n",
      "\n",
      "WARNING:tensorflow:From C:\\Users\\HP\\Anaconda3\\lib\\site-packages\\keras\\backend\\tensorflow_backend.py:181: The name tf.ConfigProto is deprecated. Please use tf.compat.v1.ConfigProto instead.\n",
      "\n",
      "WARNING:tensorflow:From C:\\Users\\HP\\Anaconda3\\lib\\site-packages\\keras\\backend\\tensorflow_backend.py:190: The name tf.global_variables is deprecated. Please use tf.compat.v1.global_variables instead.\n",
      "\n",
      "WARNING:tensorflow:From C:\\Users\\HP\\Anaconda3\\lib\\site-packages\\keras\\backend\\tensorflow_backend.py:199: The name tf.is_variable_initialized is deprecated. Please use tf.compat.v1.is_variable_initialized instead.\n",
      "\n",
      "WARNING:tensorflow:From C:\\Users\\HP\\Anaconda3\\lib\\site-packages\\keras\\backend\\tensorflow_backend.py:206: The name tf.variables_initializer is deprecated. Please use tf.compat.v1.variables_initializer instead.\n",
      "\n",
      " - 4s - loss: 3.6156 - acc: 0.1303\n",
      "Epoch 2/100\n",
      " - 0s - loss: 3.5249 - acc: 0.1930\n",
      "Epoch 3/100\n",
      " - 0s - loss: 3.2531 - acc: 0.1905\n",
      "Epoch 4/100\n",
      " - 0s - loss: 3.0668 - acc: 0.1905\n",
      "Epoch 5/100\n",
      " - 0s - loss: 3.0205 - acc: 0.1905\n",
      "Epoch 6/100\n",
      " - 0s - loss: 2.9946 - acc: 0.1905\n",
      "Epoch 7/100\n",
      " - 0s - loss: 2.9817 - acc: 0.1905\n",
      "Epoch 8/100\n",
      " - 1s - loss: 2.9681 - acc: 0.1905\n",
      "Epoch 9/100\n",
      " - 1s - loss: 2.9578 - acc: 0.1905\n",
      "Epoch 10/100\n",
      " - 1s - loss: 2.9490 - acc: 0.1905\n",
      "Epoch 11/100\n",
      " - 0s - loss: 2.9270 - acc: 0.1905\n",
      "Epoch 12/100\n",
      " - 0s - loss: 2.9160 - acc: 0.1905\n",
      "Epoch 13/100\n",
      " - 0s - loss: 2.8934 - acc: 0.1905\n",
      "Epoch 14/100\n",
      " - 0s - loss: 2.8763 - acc: 0.1905\n",
      "Epoch 15/100\n",
      " - 0s - loss: 2.8537 - acc: 0.1905\n",
      "Epoch 16/100\n",
      " - 0s - loss: 2.8261 - acc: 0.1955\n",
      "Epoch 17/100\n",
      " - 0s - loss: 2.7846 - acc: 0.1905\n",
      "Epoch 18/100\n",
      " - 0s - loss: 2.7499 - acc: 0.2431\n",
      "Epoch 19/100\n",
      " - 0s - loss: 2.7015 - acc: 0.2406\n",
      "Epoch 20/100\n",
      " - 0s - loss: 2.6623 - acc: 0.2431\n",
      "Epoch 21/100\n",
      " - 0s - loss: 2.6277 - acc: 0.2957\n",
      "Epoch 22/100\n",
      " - 0s - loss: 2.5767 - acc: 0.3183\n",
      "Epoch 23/100\n",
      " - 0s - loss: 2.5121 - acc: 0.2932\n",
      "Epoch 24/100\n",
      " - 0s - loss: 2.4862 - acc: 0.3133\n",
      "Epoch 25/100\n",
      " - 0s - loss: 2.4099 - acc: 0.3233\n",
      "Epoch 26/100\n",
      " - 0s - loss: 2.3794 - acc: 0.3383\n",
      "Epoch 27/100\n",
      " - 0s - loss: 2.3247 - acc: 0.3233\n",
      "Epoch 28/100\n",
      " - 0s - loss: 2.2784 - acc: 0.3459\n",
      "Epoch 29/100\n",
      " - 0s - loss: 2.2354 - acc: 0.3734\n",
      "Epoch 30/100\n",
      " - 0s - loss: 2.2088 - acc: 0.3659\n",
      "Epoch 31/100\n",
      " - 1s - loss: 2.1673 - acc: 0.3759\n",
      "Epoch 32/100\n",
      " - 1s - loss: 2.0986 - acc: 0.3935\n",
      "Epoch 33/100\n",
      " - 1s - loss: 2.0653 - acc: 0.4110\n",
      "Epoch 34/100\n",
      " - 0s - loss: 2.0106 - acc: 0.4486\n",
      "Epoch 35/100\n",
      " - 0s - loss: 1.9968 - acc: 0.4160\n",
      "Epoch 36/100\n",
      " - 0s - loss: 1.9449 - acc: 0.4612\n",
      "Epoch 37/100\n",
      " - 0s - loss: 1.8877 - acc: 0.4712\n",
      "Epoch 38/100\n",
      " - 0s - loss: 1.8558 - acc: 0.4612\n",
      "Epoch 39/100\n",
      " - 0s - loss: 1.8018 - acc: 0.5063\n",
      "Epoch 40/100\n",
      " - 0s - loss: 1.7749 - acc: 0.5188\n",
      "Epoch 41/100\n",
      " - 0s - loss: 1.7389 - acc: 0.5338\n",
      "Epoch 42/100\n",
      " - 0s - loss: 1.6988 - acc: 0.5388\n",
      "Epoch 43/100\n",
      " - 0s - loss: 1.6507 - acc: 0.5564\n",
      "Epoch 44/100\n",
      " - 0s - loss: 1.6088 - acc: 0.5564\n",
      "Epoch 45/100\n",
      " - 0s - loss: 1.5792 - acc: 0.5739\n",
      "Epoch 46/100\n",
      " - 0s - loss: 1.5328 - acc: 0.6090\n",
      "Epoch 47/100\n",
      " - 0s - loss: 1.4905 - acc: 0.6366\n",
      "Epoch 48/100\n",
      " - 0s - loss: 1.4688 - acc: 0.6165\n",
      "Epoch 49/100\n",
      " - 0s - loss: 1.4175 - acc: 0.6466\n",
      "Epoch 50/100\n",
      " - 0s - loss: 1.3675 - acc: 0.6742\n",
      "Epoch 51/100\n",
      " - 0s - loss: 1.3484 - acc: 0.6566\n",
      "Epoch 52/100\n",
      " - 0s - loss: 1.3157 - acc: 0.6867\n",
      "Epoch 53/100\n",
      " - 0s - loss: 1.2765 - acc: 0.6867\n",
      "Epoch 54/100\n",
      " - 0s - loss: 1.2472 - acc: 0.6942\n",
      "Epoch 55/100\n",
      " - 0s - loss: 1.1956 - acc: 0.7268\n",
      "Epoch 56/100\n",
      " - 0s - loss: 1.1624 - acc: 0.7218\n",
      "Epoch 57/100\n",
      " - 0s - loss: 1.1374 - acc: 0.7419\n",
      "Epoch 58/100\n",
      " - 0s - loss: 1.0947 - acc: 0.7769\n",
      "Epoch 59/100\n",
      " - 0s - loss: 1.0963 - acc: 0.7444\n",
      "Epoch 60/100\n",
      " - 0s - loss: 1.0601 - acc: 0.7744\n",
      "Epoch 61/100\n",
      " - 0s - loss: 1.0178 - acc: 0.7845\n",
      "Epoch 62/100\n",
      " - 0s - loss: 0.9902 - acc: 0.7895\n",
      "Epoch 63/100\n",
      " - 0s - loss: 0.9550 - acc: 0.8070\n",
      "Epoch 64/100\n",
      " - 0s - loss: 0.9010 - acc: 0.8496\n",
      "Epoch 65/100\n",
      " - 0s - loss: 0.8749 - acc: 0.8371\n",
      "Epoch 66/100\n",
      " - 0s - loss: 0.8459 - acc: 0.8622\n",
      "Epoch 67/100\n",
      " - 0s - loss: 0.8131 - acc: 0.8622\n",
      "Epoch 68/100\n",
      " - 0s - loss: 0.7829 - acc: 0.8947\n",
      "Epoch 69/100\n",
      " - 0s - loss: 0.7541 - acc: 0.8847\n",
      "Epoch 70/100\n",
      " - 0s - loss: 0.7288 - acc: 0.9123\n",
      "Epoch 71/100\n",
      " - 0s - loss: 0.7094 - acc: 0.9098\n",
      "Epoch 72/100\n",
      " - 0s - loss: 0.6709 - acc: 0.9273\n",
      "Epoch 73/100\n",
      " - 0s - loss: 0.6511 - acc: 0.9273\n",
      "Epoch 74/100\n",
      " - 0s - loss: 0.6409 - acc: 0.9273\n",
      "Epoch 75/100\n",
      " - 0s - loss: 0.6067 - acc: 0.9298\n",
      "Epoch 76/100\n",
      " - 0s - loss: 0.5855 - acc: 0.9449\n",
      "Epoch 77/100\n",
      " - 0s - loss: 0.5489 - acc: 0.9474\n",
      "Epoch 78/100\n",
      " - 0s - loss: 0.5331 - acc: 0.9499\n",
      "Epoch 79/100\n",
      " - 0s - loss: 0.5199 - acc: 0.9574\n",
      "Epoch 80/100\n",
      " - 0s - loss: 0.4908 - acc: 0.9574\n",
      "Epoch 81/100\n",
      " - 0s - loss: 0.4673 - acc: 0.9699\n",
      "Epoch 82/100\n",
      " - 0s - loss: 0.4493 - acc: 0.9724\n",
      "Epoch 83/100\n",
      " - 0s - loss: 0.4273 - acc: 0.9749\n",
      "Epoch 84/100\n",
      " - 0s - loss: 0.4062 - acc: 0.9774\n",
      "Epoch 85/100\n",
      " - 0s - loss: 0.3978 - acc: 0.9749\n",
      "Epoch 86/100\n",
      " - 0s - loss: 0.3804 - acc: 0.9850\n",
      "Epoch 87/100\n",
      " - 0s - loss: 0.3605 - acc: 0.9825\n",
      "Epoch 88/100\n",
      " - 0s - loss: 0.3477 - acc: 0.9825\n",
      "Epoch 89/100\n",
      " - 0s - loss: 0.3330 - acc: 0.9825\n",
      "Epoch 90/100\n",
      " - 0s - loss: 0.3175 - acc: 0.9850\n",
      "Epoch 91/100\n",
      " - 0s - loss: 0.3137 - acc: 0.9875\n",
      "Epoch 92/100\n",
      " - 0s - loss: 0.3041 - acc: 0.9850\n",
      "Epoch 93/100\n",
      " - 0s - loss: 0.2845 - acc: 0.9850\n",
      "Epoch 94/100\n",
      " - 0s - loss: 0.2743 - acc: 0.9900\n",
      "Epoch 95/100\n",
      " - 0s - loss: 0.2648 - acc: 0.9850\n",
      "Epoch 96/100\n",
      " - 0s - loss: 0.2538 - acc: 0.9875\n",
      "Epoch 97/100\n",
      " - 0s - loss: 0.2381 - acc: 0.9925\n",
      "Epoch 98/100\n",
      " - 0s - loss: 0.2321 - acc: 0.9900\n",
      "Epoch 99/100\n",
      " - 0s - loss: 0.2266 - acc: 0.9925\n",
      "Epoch 100/100\n",
      " - 0s - loss: 0.2160 - acc: 0.9900\n"
     ]
    },
    {
     "data": {
      "text/plain": [
       "<keras.callbacks.History at 0x1c944d40f88>"
      ]
     },
     "execution_count": 21,
     "metadata": {},
     "output_type": "execute_result"
    }
   ],
   "source": [
    "# fit model\n",
    "model.fit(X, y, epochs=100, verbose=2)"
   ]
  },
  {
   "cell_type": "code",
   "execution_count": 22,
   "metadata": {},
   "outputs": [],
   "source": [
    "# save the model to file\n",
    "model.save('model_lan_rhyme.h5')"
   ]
  },
  {
   "cell_type": "code",
   "execution_count": 23,
   "metadata": {},
   "outputs": [],
   "source": [
    "# save the mapping\n",
    "dump(mapping, open('mapping_lan_rhyme.pkl', 'wb'))"
   ]
  },
  {
   "cell_type": "code",
   "execution_count": 40,
   "metadata": {},
   "outputs": [],
   "source": [
    "# generate a sequence of characters with a language model\n",
    "def generate_seq(model, mapping, seq_length, seed_text, n_chars):\n",
    "    in_text = seed_text\n",
    "    for _ in range(n_chars):\n",
    "        encoded = [mapping[char] for char in in_text]\n",
    "        encoded = pad_sequences([encoded], maxlen=seq_length, truncating='pre')\n",
    "        encoded = to_categorical(encoded, num_classes=len(mapping))\n",
    "        encoded = encoded.reshape(1,encoded.shape[1],38)\n",
    "        yhat = model.predict_classes(encoded, verbose=0)\n",
    "        out_char = ''\n",
    "        for char, index in mapping.items():\n",
    "            if index == yhat:\n",
    "                out_char = char\n",
    "                break\n",
    "        in_text += out_char\n",
    "    return in_text"
   ]
  },
  {
   "cell_type": "code",
   "execution_count": 41,
   "metadata": {},
   "outputs": [
    {
     "name": "stdout",
     "output_type": "stream",
     "text": [
      "Sing a song of sixpence, A poc\n"
     ]
    }
   ],
   "source": [
    "# test start of rhyme\n",
    "print(generate_seq(model, mapping, 10, 'Sing a son', 20))"
   ]
  },
  {
   "cell_type": "code",
   "execution_count": 42,
   "metadata": {},
   "outputs": [
    {
     "name": "stdout",
     "output_type": "stream",
     "text": [
      "king was in his counting house\n"
     ]
    }
   ],
   "source": [
    "# test mid-line\n",
    "print(generate_seq(model, mapping, 10, 'king was i', 20))"
   ]
  },
  {
   "cell_type": "code",
   "execution_count": 43,
   "metadata": {},
   "outputs": [
    {
     "name": "stdout",
     "output_type": "stream",
     "text": [
      "hello worl mes Tae oobthe se p\n"
     ]
    }
   ],
   "source": [
    "# test not in original\n",
    "print(generate_seq(model, mapping, 10, 'hello worl', 20))"
   ]
  },
  {
   "cell_type": "code",
   "execution_count": null,
   "metadata": {},
   "outputs": [],
   "source": []
  }
 ],
 "metadata": {
  "kernelspec": {
   "display_name": "Python 3",
   "language": "python",
   "name": "python3"
  },
  "language_info": {
   "codemirror_mode": {
    "name": "ipython",
    "version": 3
   },
   "file_extension": ".py",
   "mimetype": "text/x-python",
   "name": "python",
   "nbconvert_exporter": "python",
   "pygments_lexer": "ipython3",
   "version": "3.7.4"
  }
 },
 "nbformat": 4,
 "nbformat_minor": 2
}
