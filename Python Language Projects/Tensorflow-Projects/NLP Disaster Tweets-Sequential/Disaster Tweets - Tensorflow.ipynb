{
 "cells": [
  {
   "cell_type": "code",
   "execution_count": 1,
   "metadata": {},
   "outputs": [],
   "source": [
    "import numpy as np\n",
    "import pandas as pd\n",
    "import matplotlib.pyplot as plt\n",
    "%matplotlib inline"
   ]
  },
  {
   "cell_type": "code",
   "execution_count": 2,
   "metadata": {},
   "outputs": [],
   "source": [
    "train = pd.read_csv('train.csv')\n",
    "test = pd.read_csv('test.csv')"
   ]
  },
  {
   "cell_type": "code",
   "execution_count": 15,
   "metadata": {},
   "outputs": [
    {
     "name": "stdout",
     "output_type": "stream",
     "text": [
      "fatalities               45\n",
      "armageddon               42\n",
      "deluge                   42\n",
      "body%20bags              41\n",
      "damage                   41\n",
      "                         ..\n",
      "forest%20fire            19\n",
      "epicentre                12\n",
      "threat                   11\n",
      "inundation               10\n",
      "radiation%20emergency     9\n",
      "Name: keyword, Length: 221, dtype: int64\n",
      "USA                               104\n",
      "New York                           71\n",
      "United States                      50\n",
      "London                             45\n",
      "Canada                             29\n",
      "                                 ... \n",
      "Northampton, MA                     1\n",
      "Manchester, The World, England      1\n",
      "Miami via Lima                      1\n",
      "Queens, NY                          1\n",
      "Pontevedra, Galicia                 1\n",
      "Name: location, Length: 3341, dtype: int64\n"
     ]
    }
   ],
   "source": [
    "print(train['keyword'].value_counts())\n",
    "print(train['location'].value_counts())"
   ]
  },
  {
   "cell_type": "code",
   "execution_count": 19,
   "metadata": {},
   "outputs": [
    {
     "data": {
      "text/plain": [
       "location    2533\n",
       "keyword       61\n",
       "dtype: int64"
      ]
     },
     "execution_count": 19,
     "metadata": {},
     "output_type": "execute_result"
    }
   ],
   "source": [
    "train[['location','keyword']].isnull().sum()"
   ]
  },
  {
   "cell_type": "code",
   "execution_count": 20,
   "metadata": {},
   "outputs": [],
   "source": [
    "from tensorflow.keras.preprocessing.text import Tokenizer\n",
    "from tensorflow.keras.preprocessing.sequence import pad_sequences"
   ]
  },
  {
   "cell_type": "code",
   "execution_count": 21,
   "metadata": {},
   "outputs": [],
   "source": [
    "X = train['text']\n",
    "Y = train['target']"
   ]
  },
  {
   "cell_type": "code",
   "execution_count": 23,
   "metadata": {},
   "outputs": [],
   "source": [
    "tokenizer = Tokenizer(num_words=10000, oov_token='<OOV>')"
   ]
  },
  {
   "cell_type": "code",
   "execution_count": 25,
   "metadata": {},
   "outputs": [],
   "source": [
    "from sklearn.model_selection import train_test_split\n",
    "\n",
    "xtrain, xval, ytrain, yval = train_test_split(X,Y, train_size=0.85, random_state=42)"
   ]
  },
  {
   "cell_type": "code",
   "execution_count": 26,
   "metadata": {},
   "outputs": [],
   "source": [
    "tokenizer.fit_on_texts(xtrain)\n",
    "word_index = tokenizer.word_index\n",
    "seq = tokenizer.texts_to_sequences(xtrain)\n",
    "padded_x = pad_sequences(seq, maxlen=120, truncating='post')"
   ]
  },
  {
   "cell_type": "code",
   "execution_count": 27,
   "metadata": {},
   "outputs": [],
   "source": [
    "test_seq = tokenizer.texts_to_sequences(xval)\n",
    "padded_val = pad_sequences(test_seq, maxlen=120)"
   ]
  },
  {
   "cell_type": "code",
   "execution_count": 28,
   "metadata": {},
   "outputs": [],
   "source": [
    "import tensorflow as tf"
   ]
  },
  {
   "cell_type": "code",
   "execution_count": 52,
   "metadata": {},
   "outputs": [],
   "source": [
    "model = tf.keras.Sequential([\n",
    "    tf.keras.layers.Embedding(10000, 12, input_length=120),\n",
    "    tf.keras.layers.GlobalAveragePooling1D(),\n",
    "    tf.keras.layers.Dense(24, activation='relu'),\n",
    "    tf.keras.layers.Dense(1, activation='sigmoid')\n",
    "])"
   ]
  },
  {
   "cell_type": "code",
   "execution_count": 53,
   "metadata": {},
   "outputs": [
    {
     "name": "stdout",
     "output_type": "stream",
     "text": [
      "Model: \"sequential_6\"\n",
      "_________________________________________________________________\n",
      "Layer (type)                 Output Shape              Param #   \n",
      "=================================================================\n",
      "embedding_6 (Embedding)      (None, 120, 12)           120000    \n",
      "_________________________________________________________________\n",
      "global_average_pooling1d_6 ( (None, 12)                0         \n",
      "_________________________________________________________________\n",
      "dense_12 (Dense)             (None, 24)                312       \n",
      "_________________________________________________________________\n",
      "dense_13 (Dense)             (None, 1)                 25        \n",
      "=================================================================\n",
      "Total params: 120,337\n",
      "Trainable params: 120,337\n",
      "Non-trainable params: 0\n",
      "_________________________________________________________________\n"
     ]
    }
   ],
   "source": [
    "model.compile(loss='binary_crossentropy', optimizer='adam', metrics=['accuracy'])\n",
    "model.summary()"
   ]
  },
  {
   "cell_type": "code",
   "execution_count": 54,
   "metadata": {},
   "outputs": [
    {
     "name": "stdout",
     "output_type": "stream",
     "text": [
      "Train on 6471 samples, validate on 1142 samples\n",
      "Epoch 1/11\n",
      "6471/6471 - 2s - loss: 0.6826 - acc: 0.5704 - val_loss: 0.6790 - val_acc: 0.5701\n",
      "Epoch 2/11\n",
      "6471/6471 - 1s - loss: 0.6729 - acc: 0.5704 - val_loss: 0.6661 - val_acc: 0.5701\n",
      "Epoch 3/11\n",
      "6471/6471 - 1s - loss: 0.6408 - acc: 0.5874 - val_loss: 0.6287 - val_acc: 0.6489\n",
      "Epoch 4/11\n",
      "6471/6471 - 1s - loss: 0.5791 - acc: 0.7242 - val_loss: 0.5666 - val_acc: 0.7364\n",
      "Epoch 5/11\n",
      "6471/6471 - 1s - loss: 0.4799 - acc: 0.8061 - val_loss: 0.5103 - val_acc: 0.7863\n",
      "Epoch 6/11\n",
      "6471/6471 - 1s - loss: 0.4071 - acc: 0.8390 - val_loss: 0.4843 - val_acc: 0.7986\n",
      "Epoch 7/11\n",
      "6471/6471 - 1s - loss: 0.3551 - acc: 0.8620 - val_loss: 0.4713 - val_acc: 0.7986\n",
      "Epoch 8/11\n",
      "6471/6471 - 1s - loss: 0.3192 - acc: 0.8759 - val_loss: 0.4703 - val_acc: 0.7916\n",
      "Epoch 9/11\n",
      "6471/6471 - 1s - loss: 0.2898 - acc: 0.8890 - val_loss: 0.4724 - val_acc: 0.8074\n",
      "Epoch 10/11\n",
      "6471/6471 - 1s - loss: 0.2665 - acc: 0.8996 - val_loss: 0.4810 - val_acc: 0.8091\n",
      "Epoch 11/11\n",
      "6471/6471 - 1s - loss: 0.2467 - acc: 0.9071 - val_loss: 0.4862 - val_acc: 0.8100\n"
     ]
    }
   ],
   "source": [
    "valper = model.fit(padded_x, ytrain, epochs=11, validation_data=(padded_val, yval), verbose=2)"
   ]
  },
  {
   "cell_type": "code",
   "execution_count": 63,
   "metadata": {},
   "outputs": [],
   "source": [
    "tokenizer.fit_on_texts(train['text'])\n",
    "word_index = tokenizer.word_index\n",
    "seq = tokenizer.texts_to_sequences(train['text'])\n",
    "padded_x = pad_sequences(seq,maxlen=120, truncating='post')\n",
    "\n",
    "test_sentences = test['text']\n",
    "test_seq = tokenizer.texts_to_sequences(test_sentences)\n",
    "test_padded = pad_sequences(test_seq,maxlen=120)"
   ]
  },
  {
   "cell_type": "code",
   "execution_count": 64,
   "metadata": {},
   "outputs": [
    {
     "name": "stdout",
     "output_type": "stream",
     "text": [
      "Model: \"sequential_9\"\n",
      "_________________________________________________________________\n",
      "Layer (type)                 Output Shape              Param #   \n",
      "=================================================================\n",
      "embedding_9 (Embedding)      (None, 120, 12)           120000    \n",
      "_________________________________________________________________\n",
      "global_average_pooling1d_9 ( (None, 12)                0         \n",
      "_________________________________________________________________\n",
      "dense_18 (Dense)             (None, 24)                312       \n",
      "_________________________________________________________________\n",
      "dense_19 (Dense)             (None, 1)                 25        \n",
      "=================================================================\n",
      "Total params: 120,337\n",
      "Trainable params: 120,337\n",
      "Non-trainable params: 0\n",
      "_________________________________________________________________\n"
     ]
    }
   ],
   "source": [
    "model = tf.keras.Sequential([\n",
    "    tf.keras.layers.Embedding(10000, 12, input_length=120),\n",
    "    tf.keras.layers.GlobalAveragePooling1D(),\n",
    "    tf.keras.layers.Dense(24, activation='relu'),\n",
    "    tf.keras.layers.Dense(1, activation='sigmoid')\n",
    "])\n",
    "\n",
    "model.compile(loss='binary_crossentropy', optimizer='adam', metrics=['accuracy'])\n",
    "model.summary()"
   ]
  },
  {
   "cell_type": "code",
   "execution_count": 65,
   "metadata": {},
   "outputs": [
    {
     "name": "stdout",
     "output_type": "stream",
     "text": [
      "Train on 7613 samples\n",
      "Epoch 1/11\n",
      "7613/7613 - 1s - loss: 0.6820 - acc: 0.5702\n",
      "Epoch 2/11\n",
      "7613/7613 - 1s - loss: 0.6563 - acc: 0.5935\n",
      "Epoch 3/11\n",
      "7613/7613 - 1s - loss: 0.5620 - acc: 0.7485\n",
      "Epoch 4/11\n",
      "7613/7613 - 1s - loss: 0.4661 - acc: 0.8027\n",
      "Epoch 5/11\n",
      "7613/7613 - 1s - loss: 0.4029 - acc: 0.8349\n",
      "Epoch 6/11\n",
      "7613/7613 - 1s - loss: 0.3606 - acc: 0.8551\n",
      "Epoch 7/11\n",
      "7613/7613 - 1s - loss: 0.3256 - acc: 0.8750\n",
      "Epoch 8/11\n",
      "7613/7613 - 1s - loss: 0.2988 - acc: 0.8830\n",
      "Epoch 9/11\n",
      "7613/7613 - 1s - loss: 0.2761 - acc: 0.8939\n",
      "Epoch 10/11\n",
      "7613/7613 - 1s - loss: 0.2557 - acc: 0.9010\n",
      "Epoch 11/11\n",
      "7613/7613 - 1s - loss: 0.2395 - acc: 0.9092\n"
     ]
    }
   ],
   "source": [
    "valper = model.fit(padded_x, Y, epochs=11, verbose=2)"
   ]
  },
  {
   "cell_type": "code",
   "execution_count": 89,
   "metadata": {},
   "outputs": [],
   "source": [
    "outcome = model.predict(test_padded)"
   ]
  },
  {
   "cell_type": "code",
   "execution_count": 90,
   "metadata": {},
   "outputs": [],
   "source": [
    "outcome = pd.DataFrame(outcome, columns=['target'])"
   ]
  },
  {
   "cell_type": "code",
   "execution_count": 91,
   "metadata": {},
   "outputs": [],
   "source": [
    "for i,x in enumerate(outcome['target']):\n",
    "    if x > 0.5:\n",
    "        outcome['target'][i] = 1\n",
    "    else:\n",
    "        outcome['target'][i] = 0\n"
   ]
  },
  {
   "cell_type": "code",
   "execution_count": 94,
   "metadata": {},
   "outputs": [
    {
     "data": {
      "text/plain": [
       "0.0    2076\n",
       "1.0    1187\n",
       "Name: target, dtype: int64"
      ]
     },
     "execution_count": 94,
     "metadata": {},
     "output_type": "execute_result"
    }
   ],
   "source": [
    "outcome['target'].value_counts()"
   ]
  },
  {
   "cell_type": "code",
   "execution_count": 96,
   "metadata": {},
   "outputs": [],
   "source": [
    "df = pd.DataFrame()\n",
    "df['id'] = test['id']\n",
    "df['target'] = outcome['target']"
   ]
  },
  {
   "cell_type": "code",
   "execution_count": 97,
   "metadata": {},
   "outputs": [],
   "source": [
    "df.to_csv('outcome-tf.csv', index=False)"
   ]
  },
  {
   "cell_type": "code",
   "execution_count": null,
   "metadata": {},
   "outputs": [],
   "source": []
  }
 ],
 "metadata": {
  "kernelspec": {
   "display_name": "Python 3",
   "language": "python",
   "name": "python3"
  },
  "language_info": {
   "codemirror_mode": {
    "name": "ipython",
    "version": 3
   },
   "file_extension": ".py",
   "mimetype": "text/x-python",
   "name": "python",
   "nbconvert_exporter": "python",
   "pygments_lexer": "ipython3",
   "version": "3.7.4"
  }
 },
 "nbformat": 4,
 "nbformat_minor": 2
}
